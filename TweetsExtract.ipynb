{
 "cells": [
  {
   "cell_type": "code",
   "execution_count": 2,
   "metadata": {},
   "outputs": [],
   "source": [
    "import tweepy\n",
    "from pprint import pprint \n",
    "from tweepy import Stream\n",
    "from tweepy.streaming import StreamListener\n",
    "import csv"
   ]
  },
  {
   "cell_type": "code",
   "execution_count": 3,
   "metadata": {},
   "outputs": [
    {
     "name": "stdout",
     "output_type": "stream",
     "text": [
      "Authentication successfull!!! :D\n"
     ]
    }
   ],
   "source": [
    "#Consumer Key (API Key), Consumer Secret (API Secret)\n",
    "auth = tweepy.OAuthHandler('ZKkGRRKUBGY9NbDtuzZk6lVy6','Zx3v5FaMqXM907KilyTZdGWFiVlkuyVMi636vRQynHvKO3EdBR')\n",
    "# Access Token, Access Token Secret\n",
    "auth.set_access_token('2878516730-7GkdTlpexHuZL0fg3vlCBcJpeUWnAuSqTKTew6z','kwEWM9ixk4ylcTXCIYnV9kc9hFmQwvsyprMJtSXAEA0aY')\n",
    "\n",
    "api = tweepy.API(auth)\n",
    "if (not api):\n",
    "    print(\"Authentication failed :(\")\n",
    "else:\n",
    "    print(\"Authentication successfull!!! :D\")"
   ]
  },
  {
   "cell_type": "code",
   "execution_count": 60,
   "metadata": {},
   "outputs": [
    {
     "name": "stdout",
     "output_type": "stream",
     "text": [
      "0  -  1114887550819287042 77 203\n",
      "tried\n",
      "video\n"
     ]
    }
   ],
   "source": [
    "# csvFile = open('tweets_test.csv', 'a')\n",
    "# csvWriter = csv.writer(csvFile)\n",
    "# since=\"2017-04-03\"\n",
    "i = 0\n",
    "x=None\n",
    "# \n",
    "for tweet in tweepy.Cursor(api.user_timeline,id=\"BJP4India\",tweet_mode = 'extended',count=10,lang=\"en\",include_extended_entities=True,result_type='recent').items():\n",
    "    x=tweet\n",
    "#     print (tweet.created_at, tweet.full_text.encode('utf-8'),tweet.user.id,tweet.user.followers_count,tweet.place)\n",
    "#     tw = api.get_status(tweet.id)\n",
    "# tweet.full_text.encode('utf-8'),tweet.created_at,tweet.user.id,\n",
    "    print(i,' - ',tweet.id,tweet.retweet_count,tweet.favorite_count)\n",
    "    try:\n",
    "        print(\"tried\")\n",
    "        print(tweet.extended_entities['media'][0]['type'])\n",
    "    except:\n",
    "        print(\"No photo or video\")\n",
    "    i += 1\n",
    "    #     if(i==0):\n",
    "    break\n",
    "#     csvWriter.writerow([tweet.created_at, tweet.full_text.encode('utf-8'),tweet.user.id,tweet.user.followers_count,tweet.place])\n",
    "# pprint(x)"
   ]
  },
  {
   "cell_type": "code",
   "execution_count": null,
   "metadata": {},
   "outputs": [],
   "source": []
  },
  {
   "cell_type": "code",
   "execution_count": null,
   "metadata": {},
   "outputs": [],
   "source": []
  }
 ],
 "metadata": {
  "kernelspec": {
   "display_name": "Python 3",
   "language": "python",
   "name": "python3"
  },
  "language_info": {
   "codemirror_mode": {
    "name": "ipython",
    "version": 3
   },
   "file_extension": ".py",
   "mimetype": "text/x-python",
   "name": "python",
   "nbconvert_exporter": "python",
   "pygments_lexer": "ipython3",
   "version": "3.7.1"
  }
 },
 "nbformat": 4,
 "nbformat_minor": 2
}
