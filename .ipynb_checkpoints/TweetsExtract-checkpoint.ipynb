{
 "cells": [
  {
   "cell_type": "code",
   "execution_count": 2,
   "metadata": {},
   "outputs": [],
   "source": [
    "import tweepy\n",
    "from pprint import pprint \n",
    "from tweepy import Stream\n",
    "from tweepy.streaming import StreamListener\n",
    "import csv"
   ]
  },
  {
   "cell_type": "code",
   "execution_count": 3,
   "metadata": {},
   "outputs": [
    {
     "name": "stdout",
     "output_type": "stream",
     "text": [
      "Authentication successfull!!! :D\n"
     ]
    }
   ],
   "source": [
    "#Consumer Key (API Key), Consumer Secret (API Secret)\n",
    "auth = tweepy.OAuthHandler('ZKkGRRKUBGY9NbDtuzZk6lVy6','Zx3v5FaMqXM907KilyTZdGWFiVlkuyVMi636vRQynHvKO3EdBR')\n",
    "# Access Token, Access Token Secret\n",
    "auth.set_access_token('2878516730-7GkdTlpexHuZL0fg3vlCBcJpeUWnAuSqTKTew6z','kwEWM9ixk4ylcTXCIYnV9kc9hFmQwvsyprMJtSXAEA0aY')\n",
    "\n",
    "api = tweepy.API(auth)\n",
    "if (not api):\n",
    "    print(\"Authentication failed :(\")\n",
    "else:\n",
    "    print(\"Authentication successfull!!! :D\")"
   ]
  },
  {
   "cell_type": "code",
   "execution_count": 15,
   "metadata": {},
   "outputs": [
    {
     "name": "stdout",
     "output_type": "stream",
     "text": [
      "1111687913413070848 2019-03-29 17:53:47 b'Hello Dear @hydcitypolice  @KTRTRS @TelanganaDGP @HYDTP  feeling shy or ashamed about my previous comments on you guys about your work (i:e appreciation to your works which was liked by you guys).today just now I am going to drop my friend at yousufguda check post&amp; Hyderabad' 1052931316008783872\n"
     ]
    }
   ],
   "source": [
    "csvFile = open('tweets_test.csv', 'a')\n",
    "csvWriter = csv.writer(csvFile)\n",
    "# since=\"2017-04-03\"\n",
    "i = 0\n",
    "x=None\n",
    "for tweet in tweepy.Cursor(api.search,q=\"@hydcitypolice -filter:retweets\",tweet_mode = 'extended',count=100,lang=\"en\",include_entities=True).items():\n",
    "    x=tweet\n",
    "#     print (tweet.created_at, tweet.full_text.encode('utf-8'),tweet.user.id,tweet.user.followers_count,tweet.place)\n",
    "    print(tweet.id,tweet.created_at,tweet.full_text.encode('utf-8'),tweet.user.id)\n",
    "    if(i==0):\n",
    "        break\n",
    "#     csvWriter.writerow([tweet.created_at, tweet.full_text.encode('utf-8'),tweet.user.id,tweet.user.followers_count,tweet.place])\n",
    "# pprint(x)"
   ]
  },
  {
   "cell_type": "code",
   "execution_count": null,
   "metadata": {},
   "outputs": [],
   "source": []
  },
  {
   "cell_type": "code",
   "execution_count": null,
   "metadata": {},
   "outputs": [],
   "source": []
  }
 ],
 "metadata": {
  "kernelspec": {
   "display_name": "Python 3",
   "language": "python",
   "name": "python3"
  },
  "language_info": {
   "codemirror_mode": {
    "name": "ipython",
    "version": 3
   },
   "file_extension": ".py",
   "mimetype": "text/x-python",
   "name": "python",
   "nbconvert_exporter": "python",
   "pygments_lexer": "ipython3",
   "version": "3.7.1"
  }
 },
 "nbformat": 4,
 "nbformat_minor": 2
}
